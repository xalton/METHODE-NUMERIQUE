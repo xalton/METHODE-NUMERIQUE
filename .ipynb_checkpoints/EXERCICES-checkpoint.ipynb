{
 "cells": [
  {
   "cell_type": "markdown",
   "metadata": {},
   "source": [
    "Intégration numérique\n",
    "- Séance 1: \n",
    "\n",
    "Q1: Écrire un programme qui calcule une intégrale de façon numérique en utilisant a) la \n",
    "règle du trapézoïde, b) la règle de Simpson, c) l’algorithme Hit-or-Miss, et d) un \n",
    "échantillonnage brut. Étudier l’écart entre le calcul numérique et la solution \n",
    "analytique. L'intégrale de $e^{-x}$ entre 0 et 1"
   ]
  },
  {
   "cell_type": "code",
   "execution_count": 1,
   "metadata": {
    "collapsed": true
   },
   "outputs": [],
   "source": [
    "import math\n",
    "import numpy\n",
    "import random"
   ]
  },
  {
   "cell_type": "markdown",
   "metadata": {},
   "source": [
    "       a) Intrégration trapézoide:"
   ]
  },
  {
   "cell_type": "code",
   "execution_count": 2,
   "metadata": {},
   "outputs": [
    {
     "name": "stdout",
     "output_type": "stream",
     "text": [
      "0.6327707548481979\n"
     ]
    }
   ],
   "source": [
    "\n",
    "I = 0\n",
    "a = 0\n",
    "b = 1\n",
    "i = 0\n",
    "n = 10\n",
    "x = numpy.linspace(0,1,n)\n",
    "F = [0,0,0,0,0,0,0,0,0,0]\n",
    "for i in range(0,n):\n",
    "    F[i]=math.exp(-x[i])\n",
    "for i in range(0,n):\n",
    "    I = I + F[i]    \n",
    "I = I-(F[0]/2)-(F[n-1]/2)\n",
    "I = I*(b-a)/(n-1)\n",
    "print(I)"
   ]
  },
  {
   "cell_type": "markdown",
   "metadata": {
    "collapsed": true
   },
   "source": [
    "      b) Intégration Simpson:\n",
    "   "
   ]
  },
  {
   "cell_type": "code",
   "execution_count": 3,
   "metadata": {},
   "outputs": [
    {
     "name": "stdout",
     "output_type": "stream",
     "text": [
      "0.6158205248086459\n"
     ]
    }
   ],
   "source": [
    "I = 0\n",
    "a = 0\n",
    "b = 1\n",
    "i = 0\n",
    "n = 10\n",
    "x = numpy.linspace(0,1,n)\n",
    "f = [0,0,0,0,0,0,0,0,0,0]\n",
    "for i in range(0,n):\n",
    "    f[i] = math.exp(-x[i])\n",
    "for i in range(0,int(n/2)):\n",
    "    I = I+2*f[2*i]\n",
    "for i in range(0,int(n/2)-1):\n",
    "    I = I+4*f[2*i+1]\n",
    "I = I - (f[0]/2)-(f[n-1]/2)\n",
    "I = I*(b-a)/(n-1)*1/3\n",
    "print(I)\n",
    "\n",
    "    "
   ]
  },
  {
   "cell_type": "markdown",
   "metadata": {},
   "source": [
    "    c) Hit and miss:\n",
    "    "
   ]
  },
  {
   "cell_type": "code",
   "execution_count": 4,
   "metadata": {},
   "outputs": [
    {
     "name": "stdout",
     "output_type": "stream",
     "text": [
      "0.63\n"
     ]
    }
   ],
   "source": [
    "a = 0\n",
    "b = 1\n",
    "n = 100\n",
    "ymax = 1 #max de la fonction pour des x dans l'intervalle, on peut vérifier que pour ymax plus grand ça marche aussi\n",
    "A = (b-a)*ymax\n",
    "I = 0\n",
    "\n",
    "for i in range(0,n):\n",
    "    x = random.random()*(b-a)+a\n",
    "    y = random.random()*ymax\n",
    "    f = math.exp(-x)\n",
    "    if y<f and x<b:\n",
    "        N = 1\n",
    "        I = I + N\n",
    "    else:\n",
    "        N = 0\n",
    "        I = I + N\n",
    "I = I*A/(n)\n",
    "print(I)\n",
    "\n",
    "\n"
   ]
  },
  {
   "cell_type": "markdown",
   "metadata": {},
   "source": [
    "    d) échantillonnage brut  "
   ]
  },
  {
   "cell_type": "code",
   "execution_count": 5,
   "metadata": {},
   "outputs": [
    {
     "name": "stdout",
     "output_type": "stream",
     "text": [
      "0.6265034157805917\n"
     ]
    }
   ],
   "source": [
    "a = 0\n",
    "b = 1\n",
    "n = 100\n",
    "A = (b-a)\n",
    "I = 0\n",
    "for i in range(0,n):\n",
    "    x = random.random()*(b-a)+a\n",
    "    f = math.exp(-x)\n",
    "    I = I + f\n",
    "I = I*A/(n)\n",
    "print(I)\n"
   ]
  },
  {
   "cell_type": "markdown",
   "metadata": {},
   "source": [
    "Q2: Calculer le 2ème, le 3ème, et le 4ème coefficient du viriel en utilisant une méthode \n",
    "stochastique. Commenter les résultats en les comparant avec les résultats exacts."
   ]
  },
  {
   "cell_type": "markdown",
   "metadata": {
    "collapsed": true
   },
   "source": [
    "- Seance 2:\n",
    "    "
   ]
  },
  {
   "cell_type": "markdown",
   "metadata": {},
   "source": [
    "Q1:Écrire un algorithme deterministe qui calcule \n",
    "c(N). Estimer le temps de calcul comme fonction de N."
   ]
  },
  {
   "cell_type": "code",
   "execution_count": 27,
   "metadata": {},
   "outputs": [
    {
     "name": "stdout",
     "output_type": "stream",
     "text": [
      "26980\n"
     ]
    }
   ],
   "source": [
    "M = 10000\n",
    "N = 5\n",
    "res = 0\n",
    "vx = numpy.zeros((N))\n",
    "vy = numpy.zeros((N))\n",
    "for i in range(1,M):\n",
    "    flag = True\n",
    "    for j in range(1,N):\n",
    "        R = random.randint(1,4)\n",
    "        if R == 1:\n",
    "            vx[j] = vx[j-1]+1\n",
    "            vy[j] = vy[j-1]\n",
    "            for l in range(0,j):\n",
    "                if vx[j]==vx[l] and  vy[j]==vy[l]:\n",
    "                    flag = False\n",
    "        elif R == 2:\n",
    "            vx[j] = vx[j-1]\n",
    "            vy[j] = vy[j-1]+1\n",
    "            for l in range(0,j):\n",
    "                if vx[j]==vx[l] and vy[j]==vy[l]:\n",
    "                    flag = False\n",
    "        elif R == 3:\n",
    "            vx[j] = vx[j-1]-1\n",
    "            vy[j] = vy[j-1]\n",
    "            for l in range(0,j):\n",
    "                if vx[j]==vx[l] and vy[j]==vy[l]:\n",
    "                    flag = False\n",
    "        elif R == 4:\n",
    "            vx[j] = vx[j-1]\n",
    "            vy[j] = vy[j-1]-1\n",
    "            for l in range(0,j):\n",
    "                if vx[j]==vx[l] and vy[j]==vy[l]:\n",
    "                    flag = False\n",
    "        if flag == False:\n",
    "            break\n",
    "        else:\n",
    "            res = res+1\n",
    "c = res\n",
    "print(c)"
   ]
  },
  {
   "cell_type": "code",
   "execution_count": null,
   "metadata": {
    "collapsed": true
   },
   "outputs": [],
   "source": []
  },
  {
   "cell_type": "code",
   "execution_count": null,
   "metadata": {
    "collapsed": true
   },
   "outputs": [],
   "source": []
  }
 ],
 "metadata": {
  "kernelspec": {
   "display_name": "Python 3",
   "language": "python",
   "name": "python3"
  },
  "language_info": {
   "codemirror_mode": {
    "name": "ipython",
    "version": 3
   },
   "file_extension": ".py",
   "mimetype": "text/x-python",
   "name": "python",
   "nbconvert_exporter": "python",
   "pygments_lexer": "ipython3",
   "version": "3.6.3"
  }
 },
 "nbformat": 4,
 "nbformat_minor": 1
}
