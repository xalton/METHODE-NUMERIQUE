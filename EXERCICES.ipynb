{
 "cells": [
  {
   "cell_type": "markdown",
   "metadata": {},
   "source": [
    "# Exercices"
   ]
  },
  {
   "cell_type": "code",
   "execution_count": 1,
   "metadata": {
    "collapsed": true
   },
   "outputs": [],
   "source": [
    "import math\n",
    "import numpy\n",
    "import random"
   ]
  },
  {
   "cell_type": "markdown",
   "metadata": {},
   "source": [
    "Intégration numérique\n",
    "- Séance 1: \n",
    "\n",
    "Q1: Écrire un programme qui calcule une intégrale de façon numérique en utilisant a) la \n",
    "règle du trapézoïde, b) la règle de Simpson, c) l’algorithme Hit-or-Miss, et d) un \n",
    "échantillonnage brut. Étudier l’écart entre le calcul numérique et la solution \n",
    "analytique. L'intégrale de $e^{-x}$ entre 0 et 1"
   ]
  },
  {
   "cell_type": "markdown",
   "metadata": {},
   "source": [
    "       a) Intrégration trapézoide:"
   ]
  },
  {
   "cell_type": "code",
   "execution_count": 2,
   "metadata": {},
   "outputs": [
    {
     "name": "stdout",
     "output_type": "stream",
     "text": [
      "0.6327707548481979\n"
     ]
    }
   ],
   "source": [
    "\n",
    "I = 0\n",
    "a = 0\n",
    "b = 1\n",
    "i = 0\n",
    "n = 10\n",
    "x = numpy.linspace(0,1,n)\n",
    "F = [0,0,0,0,0,0,0,0,0,0]\n",
    "for i in range(0,n):\n",
    "    F[i]=math.exp(-x[i])\n",
    "for i in range(0,n):\n",
    "    I = I + F[i]    \n",
    "I = I-(F[0]/2)-(F[n-1]/2)\n",
    "I = I*(b-a)/(n-1)\n",
    "print(I)"
   ]
  },
  {
   "cell_type": "markdown",
   "metadata": {
    "collapsed": true
   },
   "source": [
    "      b) Intégration Simpson:\n",
    "   "
   ]
  },
  {
   "cell_type": "code",
   "execution_count": 3,
   "metadata": {},
   "outputs": [
    {
     "name": "stdout",
     "output_type": "stream",
     "text": [
      "0.6158205248086459\n"
     ]
    }
   ],
   "source": [
    "I = 0\n",
    "a = 0\n",
    "b = 1\n",
    "i = 0\n",
    "n = 10\n",
    "x = numpy.linspace(0,1,n)\n",
    "f = [0,0,0,0,0,0,0,0,0,0]\n",
    "for i in range(0,n):\n",
    "    f[i] = math.exp(-x[i])\n",
    "for i in range(0,int(n/2)):\n",
    "    I = I+2*f[2*i]\n",
    "for i in range(0,int(n/2)-1):\n",
    "    I = I+4*f[2*i+1]\n",
    "I = I - (f[0]/2)-(f[n-1]/2)\n",
    "I = I*(b-a)/(n-1)*1/3\n",
    "print(I)\n",
    "\n",
    "    "
   ]
  },
  {
   "cell_type": "markdown",
   "metadata": {},
   "source": [
    "    c) Hit and miss:\n",
    "    "
   ]
  },
  {
   "cell_type": "code",
   "execution_count": 4,
   "metadata": {},
   "outputs": [
    {
     "name": "stdout",
     "output_type": "stream",
     "text": [
      "0.63\n"
     ]
    }
   ],
   "source": [
    "a = 0\n",
    "b = 1\n",
    "n = 100\n",
    "ymax = 1 #max de la fonction pour des x dans l'intervalle, on peut vérifier que pour ymax plus grand ça marche aussi\n",
    "A = (b-a)*ymax\n",
    "I = 0\n",
    "\n",
    "for i in range(0,n):\n",
    "    x = random.random()*(b-a)+a\n",
    "    y = random.random()*ymax\n",
    "    f = math.exp(-x)\n",
    "    if y<f and x<b:\n",
    "        N = 1\n",
    "        I = I + N\n",
    "    else:\n",
    "        N = 0\n",
    "        I = I + N\n",
    "I = I*A/(n)\n",
    "print(I)\n",
    "\n",
    "\n"
   ]
  },
  {
   "cell_type": "markdown",
   "metadata": {},
   "source": [
    "    d) échantillonnage brut  "
   ]
  },
  {
   "cell_type": "code",
   "execution_count": 5,
   "metadata": {},
   "outputs": [
    {
     "name": "stdout",
     "output_type": "stream",
     "text": [
      "0.6265034157805917\n"
     ]
    }
   ],
   "source": [
    "a = 0\n",
    "b = 1\n",
    "n = 100\n",
    "A = (b-a)\n",
    "I = 0\n",
    "for i in range(0,n):\n",
    "    x = random.random()*(b-a)+a\n",
    "    f = math.exp(-x)\n",
    "    I = I + f\n",
    "I = I*A/(n)\n",
    "print(I)\n"
   ]
  },
  {
   "cell_type": "markdown",
   "metadata": {},
   "source": [
    "Q2: Calculer le 2ème, le 3ème, et le 4ème coefficient du viriel en utilisant une méthode \n",
    "stochastique. Commenter les résultats en les comparant avec les résultats exacts."
   ]
  },
  {
   "cell_type": "markdown",
   "metadata": {
    "collapsed": true
   },
   "source": [
    "- Seance 2:\n",
    "    "
   ]
  },
  {
   "cell_type": "markdown",
   "metadata": {},
   "source": [
    "Q1:Écrire un algorithme deterministe qui calcule \n",
    "c(N). Estimer le temps de calcul comme fonction de N."
   ]
  },
  {
   "cell_type": "code",
   "execution_count": 92,
   "metadata": {},
   "outputs": [
    {
     "name": "stdout",
     "output_type": "stream",
     "text": [
      "index 1 R: 4\n",
      "index 2 R: 4\n",
      "index 3 R: 3\n",
      "index 4 R: 3\n",
      "index 5 R: 4\n",
      "index 6 R: 3\n",
      "index 7 R: 3\n",
      "index 8 R: 2\n",
      "index 9 R: 4\n",
      "index 10 R: 2\n",
      "[[ 0.]\n",
      " [ 0.]\n",
      " [ 0.]\n",
      " [-1.]\n",
      " [-2.]\n",
      " [-2.]\n",
      " [-3.]\n",
      " [-4.]\n",
      " [-4.]\n",
      " [-4.]\n",
      " [-4.]]\n",
      "[[ 0.]\n",
      " [-1.]\n",
      " [-2.]\n",
      " [-2.]\n",
      " [-2.]\n",
      " [-3.]\n",
      " [-3.]\n",
      " [-3.]\n",
      " [-2.]\n",
      " [-3.]\n",
      " [-2.]]\n",
      "0\n"
     ]
    }
   ],
   "source": [
    "M = 10000\n",
    "N = 11\n",
    "res = 0\n",
    "vx = numpy.zeros((N,1))\n",
    "vy = numpy.zeros((N,1))\n",
    "for i in range(1,M):\n",
    "    flag = True\n",
    "    for j in range(1,N):\n",
    "        R = random.randint(1,4)\n",
    "        print(\"index\",j,\"R:\",R)\n",
    "        if R == 1:\n",
    "            vx[j] = vx[j-1]+ 1\n",
    "            vy[j] = vy[j-1]\n",
    "            for l in range(0,j):\n",
    "                if vx[j]==vx[l] and  vy[j]==vy[l]:\n",
    "                    flag = False\n",
    "        elif R == 2:\n",
    "            vx[j] = vx[j-1]\n",
    "            vy[j] = vy[j-1]+1\n",
    "            for l in range(0,j):\n",
    "                if vx[j]==vx[l] and vy[j]==vy[l]:\n",
    "                    flag = False\n",
    "        elif R == 3:\n",
    "            vx[j] = vx[j-1]-1\n",
    "            vy[j] = vy[j-1]\n",
    "            for l in range(0,j):\n",
    "                if vx[j]==vx[l] and vy[j]==vy[l]:\n",
    "                    flag = False\n",
    "        elif R == 4:\n",
    "            vx[j] = vx[j-1]\n",
    "            vy[j] = vy[j-1]-1\n",
    "            for l in range(0,j):\n",
    "                if vx[j]==vx[l] and vy[j]==vy[l]:\n",
    "                    flag = False\n",
    "    if flag == False:\n",
    "        print(vx)\n",
    "        print(vy)\n",
    "        break\n",
    "    else:\n",
    "        res = res+1\n",
    "c = res\n",
    "print(c)"
   ]
  },
  {
   "cell_type": "code",
   "execution_count": null,
   "metadata": {
    "collapsed": true
   },
   "outputs": [],
   "source": []
  },
  {
   "cell_type": "markdown",
   "metadata": {
    "collapsed": true
   },
   "source": [
    "  - Séance 3:\n",
    "\n",
    "Q: Considérons un système fait de N = 10 boîtes qui peuvent absorber\n",
    "des particules. Chaque boîte peut contenir au plus une particule avec une énergie égale à\n",
    "En. Calculer K et acc pour les 3 algo.\n"
   ]
  },
  {
   "cell_type": "code",
   "execution_count": null,
   "metadata": {
    "collapsed": true
   },
   "outputs": [],
   "source": [
    "#Premier algo:IS\n",
    "\n",
    "N = 10\n",
    "b = numpy.zero(N,1)\n",
    "i = random.randint(0,N)\n",
    "x = numpy.linspace()\n"
   ]
  },
  {
   "cell_type": "code",
   "execution_count": null,
   "metadata": {
    "collapsed": true
   },
   "outputs": [],
   "source": []
  },
  {
   "cell_type": "code",
   "execution_count": 27,
   "metadata": {},
   "outputs": [
    {
     "name": "stdout",
     "output_type": "stream",
     "text": [
      "0.2222222222222222 enlever\n",
      "0.1 enlever\n",
      "0.1 enlever\n",
      "1 mettre\n",
      "0.2222222222222222 enlever\n",
      "0.2222222222222222 enlever\n",
      "0.1 enlever\n",
      "1 mettre\n",
      "1 mettre\n",
      "[[0. ]\n",
      " [0.5]\n",
      " [0.3]\n",
      " [0.1]\n",
      " [0. ]\n",
      " [0. ]\n",
      " [0. ]\n",
      " [0. ]\n",
      " [0. ]\n",
      " [0. ]]\n"
     ]
    }
   ],
   "source": [
    "#Troisième algo:Met/Sup1\n",
    "V = 10\n",
    "M = 10\n",
    "N = 2\n",
    "E = 0 \n",
    "P = numpy.zeros((M,1)) #Probabilité\n",
    "for i in range(1,M):\n",
    "    al = random.random()\n",
    "    if al < 0.5:\n",
    "        acc1 = min(1,(V-N)/(N+1)) #acceptance de N->N+1\n",
    "        print(acc1,\"mettre\")\n",
    "        al2 = random.random()\n",
    "        if al2 < acc1:   \n",
    "            N = N + 1\n",
    "    else:\n",
    "        acc2 = min(1,N/(V-N+1)) #acceptance de N-1 -> N\n",
    "        print(acc2,\"enlever\")\n",
    "        al2 = random.random()\n",
    "        if al2 < acc2:\n",
    "            N = N- 1\n",
    "    P[N] = P[N]+1\n",
    "    ntot = ntot+1\n",
    "print(P/ntot)\n",
    "    \n",
    "    \n",
    "    "
   ]
  },
  {
   "cell_type": "markdown",
   "metadata": {
    "collapsed": true
   },
   "source": [
    "- Séance 4:\n"
   ]
  },
  {
   "cell_type": "code",
   "execution_count": null,
   "metadata": {
    "collapsed": true
   },
   "outputs": [],
   "source": [
    "N = 10\n",
    "L = 1\n",
    "overlap = True\n",
    "def dist():\n",
    "    \n",
    "for i in range(1,N):\n",
    "    while overlap == True:\n",
    "        X = random.randint(0,1)*L\n",
    "        Y = random.randint(0,1)*L\n",
    "        Z = random.randint(0,1)*L\n",
    "        overlap = False\n",
    "        for j in range(1,i-1)\n",
    "            #calcul de la distantce en i et j et si plus petit que rcut alors overlap true\n",
    "            #if overlap = false alors on met les coordonnées de la particule suivante\n",
    "            x[i] = \n",
    "            y[i] =\n",
    "            z[i] =\n",
    "            "
   ]
  }
 ],
 "metadata": {
  "kernelspec": {
   "display_name": "Python 3",
   "language": "python",
   "name": "python3"
  },
  "language_info": {
   "codemirror_mode": {
    "name": "ipython",
    "version": 3
   },
   "file_extension": ".py",
   "mimetype": "text/x-python",
   "name": "python",
   "nbconvert_exporter": "python",
   "pygments_lexer": "ipython3",
   "version": "3.6.3"
  }
 },
 "nbformat": 4,
 "nbformat_minor": 1
}
