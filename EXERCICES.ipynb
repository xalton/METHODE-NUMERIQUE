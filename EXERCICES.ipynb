{
 "cells": [
  {
   "cell_type": "markdown",
   "metadata": {},
   "source": [
    "# Exercices"
   ]
  },
  {
   "cell_type": "code",
   "execution_count": 3,
   "metadata": {
    "collapsed": true
   },
   "outputs": [],
   "source": [
    "import math\n",
    "import random \n",
    "import numpy as np\n",
    "import matplotlib.pyplot as plt"
   ]
  },
  {
   "cell_type": "markdown",
   "metadata": {},
   "source": [
    "Intégration numérique\n",
    "- Séance 1: \n",
    "\n",
    "Q1: Écrire un programme qui calcule une intégrale de façon numérique en utilisant a) la \n",
    "règle du trapézoïde, b) la règle de Simpson, c) l’algorithme Hit-or-Miss, et d) un \n",
    "échantillonnage brut. Étudier l’écart entre le calcul numérique et la solution \n",
    "analytique. L'intégrale de $e^{-x}$ entre 0 et 1"
   ]
  },
  {
   "cell_type": "markdown",
   "metadata": {},
   "source": [
    "       a) Intrégration trapézoide:"
   ]
  },
  {
   "cell_type": "code",
   "execution_count": 16,
   "metadata": {},
   "outputs": [
    {
     "name": "stdout",
     "output_type": "stream",
     "text": [
      "0.6327707548481979\n"
     ]
    }
   ],
   "source": [
    "\n",
    "I = 0\n",
    "a = 0\n",
    "b = 1\n",
    "i = 0\n",
    "n = 10\n",
    "x = np.linspace(0,1,n)\n",
    "F = [0,0,0,0,0,0,0,0,0,0]\n",
    "for i in range(0,n):\n",
    "    F[i]=math.exp(-x[i])\n",
    "for i in range(0,n):\n",
    "    I = I + F[i]    \n",
    "I = I-(F[0]/2)-(F[n-1]/2)\n",
    "I = I*(b-a)/(n-1)\n",
    "print(I)"
   ]
  },
  {
   "cell_type": "markdown",
   "metadata": {
    "collapsed": true
   },
   "source": [
    "      b) Intégration Simpson:\n",
    "   "
   ]
  },
  {
   "cell_type": "code",
   "execution_count": 17,
   "metadata": {},
   "outputs": [
    {
     "name": "stdout",
     "output_type": "stream",
     "text": [
      "0.6158205248086459\n"
     ]
    }
   ],
   "source": [
    "I = 0\n",
    "a = 0\n",
    "b = 1\n",
    "i = 0\n",
    "n = 10\n",
    "x = numpy.linspace(0,1,n)\n",
    "f = [0,0,0,0,0,0,0,0,0,0]\n",
    "for i in range(0,n):\n",
    "    f[i] = math.exp(-x[i])\n",
    "for i in range(0,int(n/2)):\n",
    "    I = I+2*f[2*i]\n",
    "for i in range(0,int(n/2)-1):\n",
    "    I = I+4*f[2*i+1]\n",
    "I = I - (f[0]/2)-(f[n-1]/2)\n",
    "I = I*(b-a)/(n-1)*1/3\n",
    "print(I)\n",
    "\n",
    "    "
   ]
  },
  {
   "cell_type": "markdown",
   "metadata": {},
   "source": [
    "    c) Hit and miss:\n",
    "    "
   ]
  },
  {
   "cell_type": "code",
   "execution_count": 4,
   "metadata": {},
   "outputs": [
    {
     "name": "stdout",
     "output_type": "stream",
     "text": [
      "0.64\n"
     ]
    }
   ],
   "source": [
    "a = 0\n",
    "b = 1\n",
    "n = 100\n",
    "ymax = 1 #max de la fonction pour des x dans l'intervalle, on peut vérifier que pour ymax plus grand ça marche aussi\n",
    "A = (b-a)*ymax\n",
    "I = 0\n",
    "\n",
    "for i in range(0,n):\n",
    "    x = random.random()*(b-a)+a\n",
    "    y = random.random()*ymax\n",
    "    f = math.exp(-x)\n",
    "    if y<f and x<b:\n",
    "        N = 1\n",
    "        I = I + N\n",
    "    else:\n",
    "        N = 0\n",
    "        I = I + N\n",
    "I = I*A/(n)\n",
    "print(I)\n",
    "\n",
    "\n"
   ]
  },
  {
   "cell_type": "markdown",
   "metadata": {},
   "source": [
    "    d) échantillonnage brut  "
   ]
  },
  {
   "cell_type": "code",
   "execution_count": 5,
   "metadata": {},
   "outputs": [
    {
     "name": "stdout",
     "output_type": "stream",
     "text": [
      "0.6144280147389739\n"
     ]
    }
   ],
   "source": [
    "a = 0\n",
    "b = 1\n",
    "n = 100\n",
    "A = (b-a)\n",
    "I = 0\n",
    "for i in range(0,n):\n",
    "    x = random.random()*(b-a)+a\n",
    "    f = math.exp(-x)\n",
    "    I = I + f\n",
    "I = I*A/(n)\n",
    "print(I)\n"
   ]
  },
  {
   "cell_type": "markdown",
   "metadata": {},
   "source": [
    "Q2: Calculer le 2ème, le 3ème, et le 4ème coefficient du viriel en utilisant une méthode \n",
    "stochastique. Commenter les résultats en les comparant avec les résultats exacts."
   ]
  },
  {
   "cell_type": "markdown",
   "metadata": {
    "collapsed": true
   },
   "source": [
    "- Seance 2:\n",
    "    "
   ]
  },
  {
   "cell_type": "markdown",
   "metadata": {},
   "source": [
    "Q1:Écrire un algorithme deterministe qui calcule \n",
    "c(N). Estimer le temps de calcul comme fonction de N."
   ]
  },
  {
   "cell_type": "code",
   "execution_count": 6,
   "metadata": {},
   "outputs": [
    {
     "name": "stdout",
     "output_type": "stream",
     "text": [
      "index 1 R: 2\n",
      "index 2 R: 4\n",
      "index 3 R: 1\n",
      "index 4 R: 2\n",
      "index 5 R: 1\n",
      "index 6 R: 3\n",
      "index 7 R: 3\n",
      "index 8 R: 3\n",
      "index 9 R: 3\n",
      "index 10 R: 1\n",
      "[[ 0.]\n",
      " [ 0.]\n",
      " [ 0.]\n",
      " [ 1.]\n",
      " [ 1.]\n",
      " [ 2.]\n",
      " [ 1.]\n",
      " [ 0.]\n",
      " [-1.]\n",
      " [-2.]\n",
      " [-1.]]\n",
      "[[0.]\n",
      " [1.]\n",
      " [0.]\n",
      " [0.]\n",
      " [1.]\n",
      " [1.]\n",
      " [1.]\n",
      " [1.]\n",
      " [1.]\n",
      " [1.]\n",
      " [1.]]\n",
      "0\n"
     ]
    }
   ],
   "source": [
    "M = 10000\n",
    "N = 11\n",
    "res = 0\n",
    "vx = numpy.zeros((N,1))\n",
    "vy = numpy.zeros((N,1))\n",
    "for i in range(1,M):\n",
    "    flag = True\n",
    "    for j in range(1,N):\n",
    "        R = random.randint(1,4)\n",
    "        print(\"index\",j,\"R:\",R)\n",
    "        if R == 1:\n",
    "            vx[j] = vx[j-1]+ 1\n",
    "            vy[j] = vy[j-1]\n",
    "            for l in range(0,j):\n",
    "                if vx[j]==vx[l] and  vy[j]==vy[l]:\n",
    "                    flag = False\n",
    "        elif R == 2:\n",
    "            vx[j] = vx[j-1]\n",
    "            vy[j] = vy[j-1]+1\n",
    "            for l in range(0,j):\n",
    "                if vx[j]==vx[l] and vy[j]==vy[l]:\n",
    "                    flag = False\n",
    "        elif R == 3:\n",
    "            vx[j] = vx[j-1]-1\n",
    "            vy[j] = vy[j-1]\n",
    "            for l in range(0,j):\n",
    "                if vx[j]==vx[l] and vy[j]==vy[l]:\n",
    "                    flag = False\n",
    "        elif R == 4:\n",
    "            vx[j] = vx[j-1]\n",
    "            vy[j] = vy[j-1]-1\n",
    "            for l in range(0,j):\n",
    "                if vx[j]==vx[l] and vy[j]==vy[l]:\n",
    "                    flag = False\n",
    "    if flag == False:\n",
    "        print(vx)\n",
    "        print(vy)\n",
    "        break\n",
    "    else:\n",
    "        res = res+1\n",
    "c = res\n",
    "print(c)"
   ]
  },
  {
   "cell_type": "markdown",
   "metadata": {},
   "source": [
    "code de Kévin"
   ]
  },
  {
   "cell_type": "code",
   "execution_count": 4,
   "metadata": {
    "collapsed": true
   },
   "outputs": [],
   "source": [
    "import random\n",
    "import numpy as np\n",
    "from matplotlib import pyplot as plt\n",
    "import seaborn as sns\n",
    "sns.set_palette(sns.color_palette(\"hls\",6))\n",
    "def check_validity(smth):\n",
    "\t# type(smth) must be list/array.\n",
    "\tboolean = True\n",
    "\ti = 0 \n",
    "\tj = 1\n",
    "\tl = 0\n",
    "\tcurr = [0,0]\n",
    "\tsmth_more = []\n",
    "\twhile i<len(smth):\n",
    "\t\tcurr = list(np.add(curr,smth[i]))\n",
    "\t\tsmth_more.append(curr)\n",
    "\t\t\n",
    "\t\ti+=1\n",
    "\twhile j<len(smth_more):\n",
    "\t\twhile l<j:\n",
    "\t\t\tif smth_more[j] == smth_more[l]:\n",
    "\t\t\t\tboolean = False\n",
    "\t\t\t\tbreak\n",
    "\t\t\tl+=1\n",
    "\t\tl=0\n",
    "\t\tj +=1\n",
    "\n",
    "\treturn boolean\n",
    "\n",
    "\n",
    "\n",
    "def polymer(len_chain,nb_attempts):\n",
    "# This routine will try to create polymer of len_chain elements \n",
    "# (which do not super-impose) x times (depending on nb_attempts)\n",
    "\t\n",
    "\tm = len_chain\n",
    "\tn = nb_attempts\t\n",
    "\t# init\n",
    "\ti = 0\n",
    "\tj = 0\n",
    "\tsuccess = 0\n",
    "\ttemp = [[0,0]]\n",
    "\t#main loop\n",
    "\twhile i<nb_attempts:\n",
    "\t\t# i-th attempt\n",
    "\n",
    "\t\twhile j<len_chain:\n",
    "\t\t\t# try to create a polymer chain\n",
    "\t\t\trdm = int(3*random.random()+1)\n",
    "\t\t\tif rdm == 1:\n",
    "\t\t\t\ttemp.append([0,1])  # up\n",
    "\t\t\telif rdm == 2:\n",
    "\t\t\t\ttemp.append([1,0])   # right\n",
    "\t\t\telif rdm == 3:\n",
    "\t\t\t\ttemp.append([0,-1]) # down\n",
    "\t\t\telse :\n",
    "\t\t\t\ttemp.append([-1,0]) # left\n",
    "\t\t\tj+=1\n",
    "\n",
    "\t\tif check_validity(temp)!= False:\n",
    "\t\t\tsuccess +=1\n",
    "\t\t# reset\n",
    "\t\tj = 0\n",
    "\t\ttemp = []\n",
    "\n",
    "\t\ti +=1\n",
    "\treturn success\n",
    "\n",
    "#annexe : une petite fonction pour faire un plot\n",
    "def my_plot(nb_attempts,maxSize_polymer):\n",
    "\ti = 2 # not interested in a monomer, at least 2 to make a polymer\n",
    "\ttempx=[]\n",
    "\ttempy=[]\n",
    "\twhile i<maxSize_polymer:\n",
    "\t\ttempx.append(i)\n",
    "\t\ty = polymer(i,nb_attempts)\n",
    "\t\ttempy.append(y)\n",
    "\t\ti+=1\n",
    "\tplt.plot(tempx,tempy,label=str(nb_attempts))\n",
    "\ttempx=[]\n",
    "\ttempy=[]\n",
    "\t\n",
    "\n",
    "\n",
    "\n"
   ]
  },
  {
   "cell_type": "code",
   "execution_count": 5,
   "metadata": {},
   "outputs": [
    {
     "data": {
      "image/png": "[encoded data removed]",
      "text/plain": [
       "<matplotlib.figure.Figure at 0x2263a5dae10>"
      ]
     },
     "metadata": {},
     "output_type": "display_data"
    }
   ],
   "source": [
    "\n",
    "my_plot(10000,40)\n",
    "my_plot(5000,40)\n",
    "my_plot(1000,40)\n",
    "my_plot(100,40)\n",
    "my_plot(50,40)\n",
    "my_plot(30,40)\n",
    "plt.legend(loc = 'center left', bbox_to_anchor=(1,0.5))\n",
    "#plt.savefig(\"patate.png\",format = \"png\",dpi=150,bbox_inches='tight')\n",
    "plt.show()"
   ]
  },
  {
   "cell_type": "markdown",
   "metadata": {
    "collapsed": true
   },
   "source": [
    "  - Séance 3:\n",
    "\n",
    "Q: Considérons un système fait de N = 10 boîtes qui peuvent absorber\n",
    "des particules. Chaque boîte peut contenir au plus une particule avec une énergie égale à\n",
    "En. Calculer K et acc pour les 3 algo.\n"
   ]
  },
  {
   "cell_type": "code",
   "execution_count": 24,
   "metadata": {},
   "outputs": [
    {
     "name": "stdout",
     "output_type": "stream",
     "text": [
      "[[0.000999  ]\n",
      " [0.00985801]\n",
      " [0.04352804]\n",
      " [0.11663512]\n",
      " [0.2047972 ]\n",
      " [0.24636625]\n",
      " [0.20585821]\n",
      " [0.11740812]\n",
      " [0.04391304]\n",
      " [0.00959501]\n",
      " [0.001042  ]]\n"
     ]
    },
    {
     "data": {
      "image/png": "[encoded data removed]",
      "text/plain": [
       "<matplotlib.figure.Figure at 0x19d8f7726a0>"
      ]
     },
     "metadata": {},
     "output_type": "display_data"
    }
   ],
   "source": [
    "#Troisième algo:Met/Sup1\n",
    "#On choisit combien de boîtes sont vides/remplies\n",
    "V = 10 #Nombre de boîtes\n",
    "M = 1000000 #nombre de frappe\n",
    "N = 2 #nombre de bôite remplie\n",
    "E = 0 #\"Energie\" vaut 0 ici car pas d'interaction avec les voisins donc dans l'acceptance exp() vaut 1\n",
    "ntot = 0\n",
    "P = np.zeros((V+1,1)) #Probabilité\n",
    "for i in range(1,M):\n",
    "    al = random.random() #On génère un nombre aléatoire\n",
    "    if al < 0.5:       \n",
    "        acc1 = min(1,(V-N)/(N+1)) #acceptance de N->N+1\n",
    "        al2 = random.random()#On génère un autre nombre aléatoire\n",
    "        if al2 < acc1:   \n",
    "            N = N + 1 #On remplit donc le nombre de boîte remplie augmente\n",
    "    else:        \n",
    "        acc2 = min(1,N/(V-N+1)) #acceptance de N-1 -> N\n",
    "        al2 = random.random() \n",
    "        if al2 < acc2:\n",
    "            N = N - 1 #On enlève donc le nombre de boîte remplie diminue\n",
    "    P[N] = P[N]+1 \n",
    "    ntot = ntot+1 #nombre total\n",
    "\n",
    "P = P/ntot\n",
    "print(P)\n",
    "x = np.arange(0, V+1, 1)\n",
    "plt.plot(x, P)\n",
    "plt.show()"
   ]
  },
  {
   "cell_type": "markdown",
   "metadata": {
    "collapsed": true
   },
   "source": [
    "- Séance 4:\n"
   ]
  },
  {
   "cell_type": "code",
   "execution_count": 4,
   "metadata": {},
   "outputs": [],
   "source": [
    "N = 10 #Nombre de frappe\n",
    "L = 7 #taille de la boîte\n",
    "Np = 100\n",
    "x = np.zeros(Np)\n",
    "y = np.zeros(Np)\n",
    "z = np.zeros(Np)\n",
    "xn = np.zeros(Np)\n",
    "yn = np.zeros(Np)\n",
    "zn = np.zeros(Np)\n",
    "beta = 1\n",
    "# r cut off doit être plus petit que L/2 \n",
    "rcut = pow(2,7/6)  #la porté de l'interaction avec sigma = 1 qui est 2x la valeur minimale\n",
    "vcut = 4*(pow(1/rcut,12)-pow(1/rcut,6)) #interaction  à rcut avec sigma = 1\n",
    "En = 0\n",
    "Nacc = 0\n",
    "W = 0\n",
    "overlap = True\n",
    "#déplacement maximal qui doit être plus petit que la porté de l'interaction\n",
    "xmax = 1 \n",
    "ymax = 1\n",
    "zmax = 1\n",
    "Etot = 0\n",
    "E = 0\n",
    "ip = 1"
   ]
  },
  {
   "cell_type": "code",
   "execution_count": 5,
   "metadata": {
    "collapsed": true
   },
   "outputs": [],
   "source": [
    "def dist(x1,y1,z1,x2,y2,z2):\n",
    "    dx = x1-x2\n",
    "    if dx < -L/2:\n",
    "        dx = dx+L\n",
    "    elif dx > L/2:\n",
    "        dx = dx-L\n",
    "    dy = y1-y2\n",
    "    if dy < -L/2:\n",
    "        dy = dy+L\n",
    "    elif dy > L/2:\n",
    "        dy = dy-L\n",
    "    dz = z1-z2\n",
    "    if dz < -L/2:\n",
    "        dz = dz+L\n",
    "    elif dz > L/2:\n",
    "        dz = dz-L\n",
    "    d = np.sqrt((dx)**2+(dy)**2+(dz)**2)\n",
    "    return d"
   ]
  },
  {
   "cell_type": "code",
   "execution_count": 9,
   "metadata": {
    "collapsed": true
   },
   "outputs": [],
   "source": [
    "def energie(x,y,z,i):\n",
    "    for ip in range(1,Np):\n",
    "        if ip != i: \n",
    "            x1 = x[i]\n",
    "            y1 = y[i]\n",
    "            z1 = z[i]\n",
    "            x2 = x[ip]\n",
    "            y2 = y[ip]\n",
    "            z2 = z[ip]\n",
    "            d = dist(x1,y1,z1,x2,y2,z2)\n",
    "                #calcul de l'énergie\n",
    "            if d < rcut:\n",
    "                #calcul du potentiel VLJ(c) où epsilon vaut 1\n",
    "                E = (4*(pow(1/d,12)-pow(1/d,6)))-vcut\n",
    "            elif d > rcut:\n",
    "                E = 0\n",
    "            Etot = Etot + E\n",
    "    return Etot"
   ]
  },
  {
   "cell_type": "code",
   "execution_count": 10,
   "metadata": {
    "collapsed": true
   },
   "outputs": [],
   "source": [
    "def deplacement(energie,Np,L):\n",
    "    #On choisit une particule aléatoire\n",
    "    i = np.randint(0,Np)\n",
    "    #On calcul son énergie avant déplacement\n",
    "    E = energie(x,y,z,i)\n",
    "    #On définit la position après déplacement\n",
    "    xn[i] = x[i] + (xmax*2*random.random()-1)% L #2rand-1 permet d'aller dans les deux sens\n",
    "    yn[i] = y[i] + (ymax*2*random.random()-1)% L\n",
    "    zn[i] = z[i] + (zmax*2*random.random()-1)% L\n",
    "    #On calcul l'énergie à la nouvelle position\n",
    "    En = energie(xn,yn,zn,i) \n",
    "    #On calcul l'acceptance métropolis\n",
    "    acc = min(1,np.exp(-beta*(En-E)))\n",
    "    #On génère un nombre aléatoire\n",
    "    al = random.random(0,1)\n",
    "    #On check si on accepte le déplacement ou pas et si oui on remplace les coordonnées de la particule i \n",
    "    #et on recalcul l'énergie totale du système\n",
    "    if al < acc:\n",
    "        xn[i] = x[i] \n",
    "        yn[i] = y[i]\n",
    "        zn[i] = z[i]\n",
    "        Nacc = Nacc + 1\n",
    "        Etot = Etot +(En-E)\n",
    "    W = W + 1 #nombre de marche\n",
    "    return W,Etot,Nacc"
   ]
  },
  {
   "cell_type": "code",
   "execution_count": 11,
   "metadata": {},
   "outputs": [],
   "source": [
    "i = 1\n",
    "ip = 1\n",
    "for i in range(1,Np):\n",
    "    x[i] = random.randint(0,1)*L\n",
    "    y[i] = random.randint(0,1)*L\n",
    "    z[i] = random.randint(0,1)*L\n",
    "for n in range(1,N):\n",
    "    while overlap == True:\n",
    "        X = random.randint(0,1)*L\n",
    "        Y = random.randint(0,1)*L\n",
    "        Z = random.randint(0,1)*L\n",
    "        overlap = False\n",
    "        for i in range(1,Np+1):\n",
    "            Etot = energie(x,y,z,i)\n",
    "            W,Etot,Nacc = deplacement(energie,Np,L)        \n",
    "        print(Etot)"
   ]
  },
  {
   "cell_type": "code",
   "execution_count": null,
   "metadata": {
    "collapsed": true
   },
   "outputs": [],
   "source": []
  }
 ],
 "metadata": {
  "kernelspec": {
   "display_name": "Python 3",
   "language": "python",
   "name": "python3"
  },
  "language_info": {
   "codemirror_mode": {
    "name": "ipython",
    "version": 3
   },
   "file_extension": ".py",
   "mimetype": "text/x-python",
   "name": "python",
   "nbconvert_exporter": "python",
   "pygments_lexer": "ipython3",
   "version": "3.6.3"
  }
 },
 "nbformat": 4,
 "nbformat_minor": 1
}
